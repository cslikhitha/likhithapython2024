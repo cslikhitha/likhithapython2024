{
  "nbformat": 4,
  "nbformat_minor": 0,
  "metadata": {
    "colab": {
      "provenance": []
    },
    "kernelspec": {
      "name": "python3",
      "display_name": "Python 3"
    },
    "language_info": {
      "name": "python"
    }
  },
  "cells": [
    {
      "cell_type": "code",
      "source": [
        "# print(\"likhi\")+\"\"\"\n",
        "\"\"\"sgiddfbdkvfdg\"\"\""
      ],
      "metadata": {
        "colab": {
          "base_uri": "https://localhost:8080/",
          "height": 36
        },
        "id": "vaDVzjJMcGTt",
        "outputId": "d94dd978-bd11-4c11-8a80-51b2d29d053e"
      },
      "execution_count": null,
      "outputs": [
        {
          "output_type": "execute_result",
          "data": {
            "text/plain": [
              "'sgiddfbdkvfdg'"
            ],
            "application/vnd.google.colaboratory.intrinsic+json": {
              "type": "string"
            }
          },
          "metadata": {},
          "execution_count": 13
        }
      ]
    },
    {
      "cell_type": "code",
      "source": [
        "X=10 # integer\n",
        "y=3.14 # Float\n",
        "name =\"john\"\n",
        "print(name)\n"
      ],
      "metadata": {
        "colab": {
          "base_uri": "https://localhost:8080/"
        },
        "id": "XgryghYl4rZS",
        "outputId": "12c3b0a9-786c-4a04-fff5-04ea479abe0b"
      },
      "execution_count": 3,
      "outputs": [
        {
          "output_type": "stream",
          "name": "stdout",
          "text": [
            "john\n"
          ]
        }
      ]
    },
    {
      "cell_type": "code",
      "source": [
        "print (10)\n",
        "b =3.14\n",
        "name=\"likhi\"\n",
        "print(b,name)"
      ],
      "metadata": {
        "colab": {
          "base_uri": "https://localhost:8080/"
        },
        "id": "uOpOFZrw5mv8",
        "outputId": "097df6e3-ae2e-403f-a993-84e93bb86ed1"
      },
      "execution_count": 7,
      "outputs": [
        {
          "output_type": "stream",
          "name": "stdout",
          "text": [
            "10\n",
            "3.14 likhi\n"
          ]
        }
      ]
    },
    {
      "cell_type": "code",
      "source": [
        "a=10\n",
        "b=3.14\n",
        "name=\"rajesh\"\n",
        "print(a,b,name)\n",
        "print(name +' very good')\n"
      ],
      "metadata": {
        "colab": {
          "base_uri": "https://localhost:8080/"
        },
        "id": "oopZ8gLo6mQ0",
        "outputId": "84196b3d-4669-4fc6-b4fc-603a07d85f0e"
      },
      "execution_count": 13,
      "outputs": [
        {
          "output_type": "stream",
          "name": "stdout",
          "text": [
            "10 3.14 rajesh\n",
            "rajesh very good\n"
          ]
        }
      ]
    },
    {
      "cell_type": "code",
      "source": [
        "name=input(\"enter student name:\")\n",
        "a=int(input(\"enter the value:\"))\n",
        "print(name + \"a\")"
      ],
      "metadata": {
        "colab": {
          "base_uri": "https://localhost:8080/"
        },
        "id": "OzHLPspk7m58",
        "outputId": "de339c48-829b-4552-94b1-1347b7ea242a"
      },
      "execution_count": 18,
      "outputs": [
        {
          "output_type": "stream",
          "name": "stdout",
          "text": [
            "enter student name:li\n",
            "enter the value:9\n",
            "lia\n"
          ]
        }
      ]
    },
    {
      "cell_type": "code",
      "source": [
        "name=input(\"Enter your name:\")\n",
        "a = (\"Hello + 10 :\")"
      ],
      "metadata": {
        "colab": {
          "base_uri": "https://localhost:8080/"
        },
        "id": "2_JeUWJl8KYT",
        "outputId": "b984e27b-7ecf-47bc-d5fe-7d5c142453f4"
      },
      "execution_count": 21,
      "outputs": [
        {
          "name": "stdout",
          "output_type": "stream",
          "text": [
            "Enter your name:li\n"
          ]
        }
      ]
    },
    {
      "cell_type": "code",
      "source": [],
      "metadata": {
        "id": "TM-ywUH2-F9F"
      },
      "execution_count": null,
      "outputs": []
    }
  ]
}